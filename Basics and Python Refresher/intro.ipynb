{
 "cells": [
  {
   "metadata": {},
   "cell_type": "markdown",
   "source": "<h1> Intro Module for ML Python. Super basics but a nice refresher. <h1>",
   "id": "de2c2e87b10c4ee9"
  },
  {
   "metadata": {
    "collapsed": true,
    "ExecuteTime": {
     "end_time": "2025-03-19T20:48:29.669734Z",
     "start_time": "2025-03-19T20:48:29.661533Z"
    }
   },
   "cell_type": "code",
   "source": [
    "#Creating a dictionary of players, yards are made up.\n",
    "players = [{\n",
    "   'name': 'A.J. Brown',\n",
    "   'catches': 88,\n",
    "   'targets': 145,\n",
    "   'yards': 1000\n",
    "   },\n",
    "   {\n",
    "   'name': 'CeeDee Lamb',\n",
    "   'catches': 107,\n",
    "   'targets': 156,\n",
    "   'yards': 1100\n",
    "   },\n",
    "   {\n",
    "   'name': 'Justin Jefferson',\n",
    "   'catches': 128,\n",
    "   'targets': 184,\n",
    "   'yards': 1500\n",
    "   },\n",
    "]\n",
    "\n",
    "for player in players:\n",
    "    name = player[\"name\"]\n",
    "    catches = player[\"catches\"]\n",
    "    targets = player[\"targets\"]\n",
    "    yards = player[\"yards\"]\n",
    "    catch_rate = catches/targets\n",
    "    yards_per_catch = yards/catches\n",
    "    yards_per_target = yards/targets\n",
    "    print(name + ' has a catch rate of ' + str(catch_rate))\n",
    "    print(name + str(yards_per_catch) + 'yards per catch')\n",
    "    print(name + str(yards_per_target) + 'yards per target')"
   ],
   "id": "initial_id",
   "outputs": [
    {
     "name": "stdout",
     "output_type": "stream",
     "text": [
      "A.J. Brown has a catch rate of 0.6068965517241379\n",
      "A.J. Brown11.363636363636363yards per catch\n",
      "A.J. Brown6.896551724137931yards per target\n",
      "CeeDee Lamb has a catch rate of 0.6858974358974359\n",
      "CeeDee Lamb10.280373831775702yards per catch\n",
      "CeeDee Lamb7.051282051282051yards per target\n",
      "Justin Jefferson has a catch rate of 0.6956521739130435\n",
      "Justin Jefferson11.71875yards per catch\n",
      "Justin Jefferson8.152173913043478yards per target\n"
     ]
    }
   ],
   "execution_count": 1
  },
  {
   "metadata": {
    "ExecuteTime": {
     "end_time": "2025-03-19T20:49:56.960061Z",
     "start_time": "2025-03-19T20:49:56.956712Z"
    }
   },
   "cell_type": "code",
   "source": [
    "#Notes on strings, I couldn't help myself.\n",
    "\n",
    "team_name = \"Green Bay Packers\"\n",
    "team_desc = \"The \" + team_name + \" are an awful, garbage eating, fart smelling, disgrace of a football team.\"\n",
    "team_desc"
   ],
   "id": "e82d29cf39500b49",
   "outputs": [
    {
     "data": {
      "text/plain": [
       "'The Green Bay Packers are an awful, garbage loving, fart smelling, disgrace of a football team.'"
      ]
     },
     "execution_count": 3,
     "metadata": {},
     "output_type": "execute_result"
    }
   ],
   "execution_count": 3
  },
  {
   "metadata": {},
   "cell_type": "markdown",
   "source": [
    "This is the end of the \"intro\" which was really just listing the sort of things we would be using.\n",
    "It also Assumed we knew nothing."
   ],
   "id": "a789cda317f59ec3"
  },
  {
   "metadata": {},
   "cell_type": "markdown",
   "source": "<h1> Functions <h1>",
   "id": "296859db040f1f0"
  },
  {
   "metadata": {},
   "cell_type": "code",
   "outputs": [],
   "execution_count": null,
   "source": "",
   "id": "cbf592043f57d351"
  }
 ],
 "metadata": {
  "kernelspec": {
   "display_name": "Python 3",
   "language": "python",
   "name": "python3"
  },
  "language_info": {
   "codemirror_mode": {
    "name": "ipython",
    "version": 2
   },
   "file_extension": ".py",
   "mimetype": "text/x-python",
   "name": "python",
   "nbconvert_exporter": "python",
   "pygments_lexer": "ipython2",
   "version": "2.7.6"
  }
 },
 "nbformat": 4,
 "nbformat_minor": 5
}
